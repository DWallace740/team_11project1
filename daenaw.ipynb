{
 "cells": [
  {
   "cell_type": "code",
   "execution_count": 6,
   "metadata": {},
   "outputs": [],
   "source": [
    "import pandas as pd\n",
    "import random\n",
    "import matplotlib.pyplot as plt\n",
    "import seaborn as sns\n",
    "import numpy as np\n",
    "from scipy.stats import sem\n",
    "import os\n",
    "from pathlib import Path\n",
    "import requests \n",
    "import json\n",
    "import kagglehub"
   ]
  },
  {
   "cell_type": "code",
   "execution_count": null,
   "metadata": {},
   "outputs": [
    {
     "data": {
      "application/vnd.jupyter.widget-view+json": {
       "model_id": "527dd27419904879a721dd4e44ea28f7",
       "version_major": 2,
       "version_minor": 0
      },
      "text/plain": [
       "VBox(children=(HTML(value='<center> <img\\nsrc=https://www.kaggle.com/static/images/site-logo.png\\nalt=\\'Kaggle…"
      ]
     },
     "metadata": {},
     "output_type": "display_data"
    },
    {
     "name": "stdout",
     "output_type": "stream",
     "text": [
      "Downloading from https://www.kaggle.com/api/v1/datasets/download/muhammadroshaanriaz/time-wasters-on-social-media?dataset_version_number=1...\n"
     ]
    },
    {
     "name": "stderr",
     "output_type": "stream",
     "text": [
      "100%|██████████| 36.0k/36.0k [00:00<00:00, 1.27MB/s]"
     ]
    },
    {
     "name": "stdout",
     "output_type": "stream",
     "text": [
      "Extracting files...\n",
      "Path to dataset files: C:\\Users\\info\\.cache\\kagglehub\\datasets\\muhammadroshaanriaz\\time-wasters-on-social-media\\versions\\1\n"
     ]
    },
    {
     "name": "stderr",
     "output_type": "stream",
     "text": [
      "\n"
     ]
    },
    {
     "name": "stdout",
     "output_type": "stream",
     "text": [
      "Kaggle credentials set.\n",
      "Kaggle credentials successfully validated.\n"
     ]
    }
   ],
   "source": [
    "kagglehub.login()\n",
    "path = kagglehub.dataset_download(\"muhammadroshaanriaz/time-wasters-on-social-media\", force_download=True)\n",
    "\n",
    "print(\"Path to dataset files:\", path)"
   ]
  },
  {
   "cell_type": "code",
   "execution_count": 8,
   "metadata": {},
   "outputs": [],
   "source": [
    "file_to_load = Path(r\"C:\\Users\\info\\Desktop\\team_11project1\\data\\Cleaned_dataset.csv\")"
   ]
  },
  {
   "cell_type": "code",
   "execution_count": null,
   "metadata": {},
   "outputs": [
    {
     "data": {
      "text/html": [
       "<div>\n",
       "<style scoped>\n",
       "    .dataframe tbody tr th:only-of-type {\n",
       "        vertical-align: middle;\n",
       "    }\n",
       "\n",
       "    .dataframe tbody tr th {\n",
       "        vertical-align: top;\n",
       "    }\n",
       "\n",
       "    .dataframe thead th {\n",
       "        text-align: right;\n",
       "    }\n",
       "</style>\n",
       "<table border=\"1\" class=\"dataframe\">\n",
       "  <thead>\n",
       "    <tr style=\"text-align: right;\">\n",
       "      <th></th>\n",
       "      <th>UserID</th>\n",
       "      <th>Age</th>\n",
       "      <th>Gender</th>\n",
       "      <th>Location</th>\n",
       "      <th>Income</th>\n",
       "      <th>Debt</th>\n",
       "      <th>Owns Property</th>\n",
       "      <th>Profession</th>\n",
       "      <th>Demographics</th>\n",
       "      <th>Platform</th>\n",
       "      <th>...</th>\n",
       "      <th>ProductivityLoss</th>\n",
       "      <th>Satisfaction</th>\n",
       "      <th>Watch Reason</th>\n",
       "      <th>Device Type</th>\n",
       "      <th>OS</th>\n",
       "      <th>Watch Time</th>\n",
       "      <th>Self Control</th>\n",
       "      <th>Addiction Level</th>\n",
       "      <th>Current Activity</th>\n",
       "      <th>Connection Type</th>\n",
       "    </tr>\n",
       "  </thead>\n",
       "  <tbody>\n",
       "    <tr>\n",
       "      <th>0</th>\n",
       "      <td>1</td>\n",
       "      <td>56</td>\n",
       "      <td>Male</td>\n",
       "      <td>Pakistan</td>\n",
       "      <td>82812</td>\n",
       "      <td>True</td>\n",
       "      <td>True</td>\n",
       "      <td>Engineer</td>\n",
       "      <td>Rural</td>\n",
       "      <td>Instagram</td>\n",
       "      <td>...</td>\n",
       "      <td>3</td>\n",
       "      <td>7</td>\n",
       "      <td>Procrastination</td>\n",
       "      <td>Smartphone</td>\n",
       "      <td>Android</td>\n",
       "      <td>9:00 PM</td>\n",
       "      <td>5</td>\n",
       "      <td>5</td>\n",
       "      <td>Commuting</td>\n",
       "      <td>Mobile Data</td>\n",
       "    </tr>\n",
       "    <tr>\n",
       "      <th>1</th>\n",
       "      <td>2</td>\n",
       "      <td>46</td>\n",
       "      <td>Female</td>\n",
       "      <td>Mexico</td>\n",
       "      <td>27999</td>\n",
       "      <td>False</td>\n",
       "      <td>True</td>\n",
       "      <td>Artist</td>\n",
       "      <td>Urban</td>\n",
       "      <td>Instagram</td>\n",
       "      <td>...</td>\n",
       "      <td>5</td>\n",
       "      <td>5</td>\n",
       "      <td>Habit</td>\n",
       "      <td>Computer</td>\n",
       "      <td>Android</td>\n",
       "      <td>5:00 PM</td>\n",
       "      <td>7</td>\n",
       "      <td>3</td>\n",
       "      <td>At school</td>\n",
       "      <td>Wi-Fi</td>\n",
       "    </tr>\n",
       "    <tr>\n",
       "      <th>2</th>\n",
       "      <td>3</td>\n",
       "      <td>32</td>\n",
       "      <td>Female</td>\n",
       "      <td>United States</td>\n",
       "      <td>42436</td>\n",
       "      <td>False</td>\n",
       "      <td>True</td>\n",
       "      <td>Engineer</td>\n",
       "      <td>Rural</td>\n",
       "      <td>Facebook</td>\n",
       "      <td>...</td>\n",
       "      <td>6</td>\n",
       "      <td>4</td>\n",
       "      <td>Entertainment</td>\n",
       "      <td>Tablet</td>\n",
       "      <td>Android</td>\n",
       "      <td>2:00 PM</td>\n",
       "      <td>8</td>\n",
       "      <td>2</td>\n",
       "      <td>At home</td>\n",
       "      <td>Mobile Data</td>\n",
       "    </tr>\n",
       "    <tr>\n",
       "      <th>3</th>\n",
       "      <td>4</td>\n",
       "      <td>60</td>\n",
       "      <td>Male</td>\n",
       "      <td>Brazil</td>\n",
       "      <td>62963</td>\n",
       "      <td>True</td>\n",
       "      <td>False</td>\n",
       "      <td>Waiting Staff</td>\n",
       "      <td>Rural</td>\n",
       "      <td>YouTube</td>\n",
       "      <td>...</td>\n",
       "      <td>3</td>\n",
       "      <td>7</td>\n",
       "      <td>Habit</td>\n",
       "      <td>Smartphone</td>\n",
       "      <td>Android</td>\n",
       "      <td>9:00 PM</td>\n",
       "      <td>5</td>\n",
       "      <td>5</td>\n",
       "      <td>Commuting</td>\n",
       "      <td>Mobile Data</td>\n",
       "    </tr>\n",
       "    <tr>\n",
       "      <th>4</th>\n",
       "      <td>5</td>\n",
       "      <td>25</td>\n",
       "      <td>Male</td>\n",
       "      <td>Pakistan</td>\n",
       "      <td>22096</td>\n",
       "      <td>False</td>\n",
       "      <td>True</td>\n",
       "      <td>Manager</td>\n",
       "      <td>Urban</td>\n",
       "      <td>TikTok</td>\n",
       "      <td>...</td>\n",
       "      <td>8</td>\n",
       "      <td>2</td>\n",
       "      <td>Boredom</td>\n",
       "      <td>Smartphone</td>\n",
       "      <td>iOS</td>\n",
       "      <td>8:00 AM</td>\n",
       "      <td>10</td>\n",
       "      <td>0</td>\n",
       "      <td>At home</td>\n",
       "      <td>Mobile Data</td>\n",
       "    </tr>\n",
       "    <tr>\n",
       "      <th>...</th>\n",
       "      <td>...</td>\n",
       "      <td>...</td>\n",
       "      <td>...</td>\n",
       "      <td>...</td>\n",
       "      <td>...</td>\n",
       "      <td>...</td>\n",
       "      <td>...</td>\n",
       "      <td>...</td>\n",
       "      <td>...</td>\n",
       "      <td>...</td>\n",
       "      <td>...</td>\n",
       "      <td>...</td>\n",
       "      <td>...</td>\n",
       "      <td>...</td>\n",
       "      <td>...</td>\n",
       "      <td>...</td>\n",
       "      <td>...</td>\n",
       "      <td>...</td>\n",
       "      <td>...</td>\n",
       "      <td>...</td>\n",
       "      <td>...</td>\n",
       "    </tr>\n",
       "    <tr>\n",
       "      <th>995</th>\n",
       "      <td>996</td>\n",
       "      <td>22</td>\n",
       "      <td>Male</td>\n",
       "      <td>India</td>\n",
       "      <td>74254</td>\n",
       "      <td>True</td>\n",
       "      <td>True</td>\n",
       "      <td>Students</td>\n",
       "      <td>Rural</td>\n",
       "      <td>TikTok</td>\n",
       "      <td>...</td>\n",
       "      <td>9</td>\n",
       "      <td>1</td>\n",
       "      <td>Procrastination</td>\n",
       "      <td>Smartphone</td>\n",
       "      <td>iOS</td>\n",
       "      <td>5:45 PM</td>\n",
       "      <td>10</td>\n",
       "      <td>0</td>\n",
       "      <td>At work</td>\n",
       "      <td>Mobile Data</td>\n",
       "    </tr>\n",
       "    <tr>\n",
       "      <th>996</th>\n",
       "      <td>997</td>\n",
       "      <td>40</td>\n",
       "      <td>Female</td>\n",
       "      <td>Pakistan</td>\n",
       "      <td>27006</td>\n",
       "      <td>False</td>\n",
       "      <td>False</td>\n",
       "      <td>Waiting Staff</td>\n",
       "      <td>Urban</td>\n",
       "      <td>Facebook</td>\n",
       "      <td>...</td>\n",
       "      <td>8</td>\n",
       "      <td>2</td>\n",
       "      <td>Boredom</td>\n",
       "      <td>Smartphone</td>\n",
       "      <td>MacOS</td>\n",
       "      <td>10:15 PM</td>\n",
       "      <td>10</td>\n",
       "      <td>0</td>\n",
       "      <td>At home</td>\n",
       "      <td>Mobile Data</td>\n",
       "    </tr>\n",
       "    <tr>\n",
       "      <th>997</th>\n",
       "      <td>998</td>\n",
       "      <td>27</td>\n",
       "      <td>Male</td>\n",
       "      <td>India</td>\n",
       "      <td>94218</td>\n",
       "      <td>True</td>\n",
       "      <td>True</td>\n",
       "      <td>Waiting Staff</td>\n",
       "      <td>Rural</td>\n",
       "      <td>TikTok</td>\n",
       "      <td>...</td>\n",
       "      <td>9</td>\n",
       "      <td>1</td>\n",
       "      <td>Procrastination</td>\n",
       "      <td>Smartphone</td>\n",
       "      <td>iOS</td>\n",
       "      <td>10:15 PM</td>\n",
       "      <td>10</td>\n",
       "      <td>0</td>\n",
       "      <td>Commuting</td>\n",
       "      <td>Mobile Data</td>\n",
       "    </tr>\n",
       "    <tr>\n",
       "      <th>998</th>\n",
       "      <td>999</td>\n",
       "      <td>61</td>\n",
       "      <td>Male</td>\n",
       "      <td>Pakistan</td>\n",
       "      <td>85344</td>\n",
       "      <td>True</td>\n",
       "      <td>False</td>\n",
       "      <td>Students</td>\n",
       "      <td>Urban</td>\n",
       "      <td>YouTube</td>\n",
       "      <td>...</td>\n",
       "      <td>3</td>\n",
       "      <td>7</td>\n",
       "      <td>Procrastination</td>\n",
       "      <td>Smartphone</td>\n",
       "      <td>MacOS</td>\n",
       "      <td>10:15 PM</td>\n",
       "      <td>5</td>\n",
       "      <td>5</td>\n",
       "      <td>At work</td>\n",
       "      <td>Wi-Fi</td>\n",
       "    </tr>\n",
       "    <tr>\n",
       "      <th>999</th>\n",
       "      <td>1000</td>\n",
       "      <td>19</td>\n",
       "      <td>Male</td>\n",
       "      <td>India</td>\n",
       "      <td>53840</td>\n",
       "      <td>True</td>\n",
       "      <td>True</td>\n",
       "      <td>Driver</td>\n",
       "      <td>Urban</td>\n",
       "      <td>YouTube</td>\n",
       "      <td>...</td>\n",
       "      <td>6</td>\n",
       "      <td>4</td>\n",
       "      <td>Procrastination</td>\n",
       "      <td>Smartphone</td>\n",
       "      <td>Android</td>\n",
       "      <td>4:25 PM</td>\n",
       "      <td>8</td>\n",
       "      <td>2</td>\n",
       "      <td>At home</td>\n",
       "      <td>Mobile Data</td>\n",
       "    </tr>\n",
       "  </tbody>\n",
       "</table>\n",
       "<p>1000 rows × 31 columns</p>\n",
       "</div>"
      ],
      "text/plain": [
       "     UserID  Age  Gender       Location  Income   Debt  Owns Property  \\\n",
       "0         1   56    Male       Pakistan   82812   True           True   \n",
       "1         2   46  Female         Mexico   27999  False           True   \n",
       "2         3   32  Female  United States   42436  False           True   \n",
       "3         4   60    Male         Brazil   62963   True          False   \n",
       "4         5   25    Male       Pakistan   22096  False           True   \n",
       "..      ...  ...     ...            ...     ...    ...            ...   \n",
       "995     996   22    Male          India   74254   True           True   \n",
       "996     997   40  Female       Pakistan   27006  False          False   \n",
       "997     998   27    Male          India   94218   True           True   \n",
       "998     999   61    Male       Pakistan   85344   True          False   \n",
       "999    1000   19    Male          India   53840   True           True   \n",
       "\n",
       "        Profession Demographics   Platform  ...  ProductivityLoss  \\\n",
       "0         Engineer        Rural  Instagram  ...                 3   \n",
       "1           Artist        Urban  Instagram  ...                 5   \n",
       "2         Engineer        Rural   Facebook  ...                 6   \n",
       "3    Waiting Staff        Rural    YouTube  ...                 3   \n",
       "4          Manager        Urban     TikTok  ...                 8   \n",
       "..             ...          ...        ...  ...               ...   \n",
       "995       Students        Rural     TikTok  ...                 9   \n",
       "996  Waiting Staff        Urban   Facebook  ...                 8   \n",
       "997  Waiting Staff        Rural     TikTok  ...                 9   \n",
       "998       Students        Urban    YouTube  ...                 3   \n",
       "999         Driver        Urban    YouTube  ...                 6   \n",
       "\n",
       "     Satisfaction     Watch Reason Device Type       OS  Watch Time  \\\n",
       "0               7  Procrastination  Smartphone  Android     9:00 PM   \n",
       "1               5            Habit    Computer  Android     5:00 PM   \n",
       "2               4    Entertainment      Tablet  Android     2:00 PM   \n",
       "3               7            Habit  Smartphone  Android     9:00 PM   \n",
       "4               2          Boredom  Smartphone      iOS     8:00 AM   \n",
       "..            ...              ...         ...      ...         ...   \n",
       "995             1  Procrastination  Smartphone      iOS     5:45 PM   \n",
       "996             2          Boredom  Smartphone    MacOS    10:15 PM   \n",
       "997             1  Procrastination  Smartphone      iOS    10:15 PM   \n",
       "998             7  Procrastination  Smartphone    MacOS    10:15 PM   \n",
       "999             4  Procrastination  Smartphone  Android     4:25 PM   \n",
       "\n",
       "     Self Control  Addiction Level  Current Activity  Connection Type  \n",
       "0               5                5         Commuting      Mobile Data  \n",
       "1               7                3         At school            Wi-Fi  \n",
       "2               8                2           At home      Mobile Data  \n",
       "3               5                5         Commuting      Mobile Data  \n",
       "4              10                0           At home      Mobile Data  \n",
       "..            ...              ...               ...              ...  \n",
       "995            10                0           At work      Mobile Data  \n",
       "996            10                0           At home      Mobile Data  \n",
       "997            10                0         Commuting      Mobile Data  \n",
       "998             5                5           At work            Wi-Fi  \n",
       "999             8                2           At home      Mobile Data  \n",
       "\n",
       "[1000 rows x 31 columns]"
      ]
     },
     "execution_count": 50,
     "metadata": {},
     "output_type": "execute_result"
    }
   ],
   "source": [
    "# create dataframe\n",
    "darkside_df = pd.read_csv(file_to_load)\n",
    "\n",
    "# Display results\n",
    "darkside_df"
   ]
  },
  {
   "cell_type": "code",
   "execution_count": null,
   "metadata": {},
   "outputs": [
    {
     "name": "stdout",
     "output_type": "stream",
     "text": [
      "Index(['UserID', 'Age', 'Gender', 'Location', 'Income', 'Debt',\n",
      "       'Owns Property', 'Profession', 'Demographics', 'Platform',\n",
      "       'Total Time Spent', 'Number of Sessions', 'Video ID', 'Video Category',\n",
      "       'Video Length', 'Engagement', 'Importance Score', 'Time Spent On Video',\n",
      "       'Number of Videos Watched', 'Scroll Rate', 'Frequency',\n",
      "       'ProductivityLoss', 'Satisfaction', 'Watch Reason', 'Device Type', 'OS',\n",
      "       'Watch Time', 'Self Control', 'Addiction Level', 'Current Activity',\n",
      "       'Connection Type'],\n",
      "      dtype='object')\n"
     ]
    }
   ],
   "source": [
    "# check the columns in the dataset\n",
    "print(darkside_df.columns)\n"
   ]
  },
  {
   "cell_type": "code",
   "execution_count": null,
   "metadata": {},
   "outputs": [
    {
     "name": "stdout",
     "output_type": "stream",
     "text": [
      "count    1000.000000\n",
      "mean        5.136000\n",
      "std         2.122265\n",
      "min         1.000000\n",
      "25%         3.000000\n",
      "50%         5.000000\n",
      "75%         6.000000\n",
      "max         9.000000\n",
      "Name: ProductivityLoss, dtype: float64\n"
     ]
    }
   ],
   "source": [
    "#Display basic information about Device Type and ProductivityLoss columns\n",
    "\n",
    "print(darkside_df['ProductivityLoss'].describe())"
   ]
  },
  {
   "cell_type": "code",
   "execution_count": 16,
   "metadata": {},
   "outputs": [
    {
     "name": "stdout",
     "output_type": "stream",
     "text": [
      "<bound method NDFrame.describe of 0      Smartphone\n",
      "1        Computer\n",
      "2          Tablet\n",
      "3      Smartphone\n",
      "4      Smartphone\n",
      "          ...    \n",
      "995    Smartphone\n",
      "996    Smartphone\n",
      "997    Smartphone\n",
      "998    Smartphone\n",
      "999    Smartphone\n",
      "Name: Device Type, Length: 1000, dtype: object>\n"
     ]
    }
   ],
   "source": [
    "print(darkside_df['Device Type'].describe)"
   ]
  },
  {
   "cell_type": "code",
   "execution_count": 20,
   "metadata": {},
   "outputs": [
    {
     "data": {
      "text/plain": [
       "Device Type\n",
       "Computer      5.143939\n",
       "Smartphone    5.217094\n",
       "Tablet        4.964664\n",
       "Name: ProductivityLoss, dtype: float64"
      ]
     },
     "execution_count": 20,
     "metadata": {},
     "output_type": "execute_result"
    }
   ],
   "source": [
    "#Group by Device Type Measurements \n",
    "device_productivity_avg = darkside_df.groupby('Device Type')['ProductivityLoss'].mean()\n",
    "device_productivity_avg"
   ]
  },
  {
   "cell_type": "code",
   "execution_count": null,
   "metadata": {},
   "outputs": [
    {
     "data": {
      "image/png": "[encoded data removed]",
      "text/plain": [
       "<Figure size 1000x600 with 1 Axes>"
      ]
     },
     "metadata": {},
     "output_type": "display_data"
    }
   ],
   "source": [
    "# Create box plot with the data\n",
    "plt.figure(figsize=(10, 6))\n",
    "sns.boxplot(x='Device Type', y='ProductivityLoss', data=darkside_df)\n",
    "plt.xlabel('Device Type')\n",
    "plt.ylabel('Productivity Loss')\n",
    "plt.title('Distribution of Productivity Loss by Device Type')\n",
    "plt.show()"
   ]
  },
  {
   "cell_type": "code",
   "execution_count": null,
   "metadata": {},
   "outputs": [
    {
     "data": {
      "image/png": "[encoded data removed]",
      "text/plain": [
       "<Figure size 1000x600 with 1 Axes>"
      ]
     },
     "metadata": {},
     "output_type": "display_data"
    }
   ],
   "source": [
    "#create bar plot with averages\n",
    "plt.figure(figsize=(10, 6))\n",
    "sns.barplot(x=device_productivity_avg.index, y=device_productivity_avg.values)\n",
    "plt.xlabel('Device Type')\n",
    "plt.ylabel('Average Productivity Loss')\n",
    "plt.title('Average Productivity Loss by Device Type')\n",
    "plt.show()"
   ]
  },
  {
   "cell_type": "code",
   "execution_count": null,
   "metadata": {},
   "outputs": [
    {
     "data": {
      "image/png": "[encoded data removed]",
      "text/plain": [
       "<Figure size 1000x600 with 1 Axes>"
      ]
     },
     "metadata": {},
     "output_type": "display_data"
    }
   ],
   "source": [
    "#Group by Device Type Measurements \n",
    "device_location_productivity = darkside_df.groupby(['Device Type', 'Location'])['ProductivityLoss'].mean().reset_index()\n",
    "\n",
    "device_location_productivity\n",
    "\n",
    "\n",
    "# Create bar plot with averages\n",
    "plt.figure(figsize=(10, 6))\n",
    "sns.barplot(x='Device Type', y= 'ProductivityLoss', hue='Location', data=device_location_productivity)\n",
    "plt.xlabel('Device Type')\n",
    "plt.ylabel('Average Productivity Loss')\n",
    "plt.grid(axis='y', linestyle='--', alpha=0.7)\n",
    "plt.legend(title='Location', bbox_to_anchor=(1.05, 1), loc='upper left')\n",
    "plt.title('Impact of Device Type and Location on Productivity Loss')\n",
    "plt.tight_layout()\n",
    "plt.show()"
   ]
  },
  {
   "cell_type": "code",
   "execution_count": 24,
   "metadata": {},
   "outputs": [
    {
     "data": {
      "text/plain": [
       "Device Type  Profession   \n",
       "Computer     Artist           5.111111\n",
       "             Cashier          5.733333\n",
       "             Driver           4.727273\n",
       "             Engineer         4.900000\n",
       "             Labor/Worker     5.214286\n",
       "             Manager          4.875000\n",
       "             Students         4.882353\n",
       "             Teacher          5.428571\n",
       "             Waiting Staff    5.416667\n",
       "Smartphone   Artist           5.520000\n",
       "             Cashier          4.913043\n",
       "             Driver           5.171429\n",
       "             Engineer         5.256410\n",
       "             Labor/Worker     5.267857\n",
       "             Manager          5.000000\n",
       "             Students         5.047619\n",
       "             Teacher          5.318182\n",
       "             Waiting Staff    5.438596\n",
       "Tablet       Artist           4.846154\n",
       "             Cashier          5.055556\n",
       "             Driver           4.687500\n",
       "             Engineer         5.000000\n",
       "             Labor/Worker     4.900000\n",
       "             Manager          5.230769\n",
       "             Students         5.061538\n",
       "             Teacher          4.900000\n",
       "             Waiting Staff    5.017857\n",
       "Name: ProductivityLoss, dtype: float64"
      ]
     },
     "execution_count": 24,
     "metadata": {},
     "output_type": "execute_result"
    }
   ],
   "source": [
    "#Group by Device Type Measurements \n",
    "device_profession_productivity = darkside_df.groupby(['Device Type', 'Profession'])['ProductivityLoss'].mean()\n",
    "\n",
    "device_profession_productivity"
   ]
  },
  {
   "cell_type": "code",
   "execution_count": null,
   "metadata": {},
   "outputs": [],
   "source": []
  },
  {
   "cell_type": "code",
   "execution_count": 42,
   "metadata": {},
   "outputs": [
    {
     "data": {
      "text/plain": [
       "Device Type  Connection Type\n",
       "Computer     Mobile Data        5.163043\n",
       "             Wi-Fi              5.100000\n",
       "Smartphone   Mobile Data        5.197500\n",
       "             Wi-Fi              5.259459\n",
       "Tablet       Mobile Data        4.886598\n",
       "             Wi-Fi              5.134831\n",
       "Name: ProductivityLoss, dtype: float64"
      ]
     },
     "execution_count": 42,
     "metadata": {},
     "output_type": "execute_result"
    }
   ],
   "source": [
    "#Group by Device Type Measurements \n",
    "device_connection_productivity = darkside_df.groupby(['Device Type', 'Connection Type'])['ProductivityLoss'].mean()\n",
    "\n",
    "device_connection_productivity"
   ]
  }
 ],
 "metadata": {
  "kernelspec": {
   "display_name": "dev",
   "language": "python",
   "name": "python3"
  },
  "language_info": {
   "codemirror_mode": {
    "name": "ipython",
    "version": 3
   },
   "file_extension": ".py",
   "mimetype": "text/x-python",
   "name": "python",
   "nbconvert_exporter": "python",
   "pygments_lexer": "ipython3",
   "version": "3.10.15"
  }
 },
 "nbformat": 4,
 "nbformat_minor": 2
}
